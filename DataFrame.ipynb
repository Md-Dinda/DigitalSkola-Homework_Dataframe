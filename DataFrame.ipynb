{
  "nbformat": 4,
  "nbformat_minor": 0,
  "metadata": {
    "colab": {
      "provenance": [],
      "authorship_tag": "ABX9TyO8anwKbT4d8q7BfBvJiFS7",
      "include_colab_link": true
    },
    "kernelspec": {
      "name": "python3",
      "display_name": "Python 3"
    },
    "language_info": {
      "name": "python"
    }
  },
  "cells": [
    {
      "cell_type": "markdown",
      "metadata": {
        "id": "view-in-github",
        "colab_type": "text"
      },
      "source": [
        "<a href=\"https://colab.research.google.com/github/SourGum73/DigitalSkola-Homework_Dataframe/blob/main/DataFrame.ipynb\" target=\"_parent\"><img src=\"https://colab.research.google.com/assets/colab-badge.svg\" alt=\"Open In Colab\"/></a>"
      ]
    },
    {
      "cell_type": "code",
      "execution_count": null,
      "metadata": {
        "id": "NciOpwP3gqmV"
      },
      "outputs": [],
      "source": [
        "import pandas as pd\n",
        "import numpy as np"
      ]
    },
    {
      "cell_type": "code",
      "source": [
        "from google.colab import drive\n",
        "drive.mount('/content/drive')"
      ],
      "metadata": {
        "colab": {
          "base_uri": "https://localhost:8080/"
        },
        "id": "9pKQKUYx8Zor",
        "outputId": "3aabf216-5e0c-41b0-a532-fcb6c8392e79"
      },
      "execution_count": null,
      "outputs": [
        {
          "output_type": "stream",
          "name": "stdout",
          "text": [
            "Mounted at /content/drive\n"
          ]
        }
      ]
    },
    {
      "cell_type": "markdown",
      "source": [
        "##Made a 'Full Name' Column"
      ],
      "metadata": {
        "id": "72Ukm7Mxg-Il"
      }
    },
    {
      "cell_type": "code",
      "source": [
        "# Baca data dari sheet \"Paid-Transaction\"\n",
        "paid_trans_df = pd.read_excel('/content/drive/MyDrive/Colab Notebooks/Homework 3 - Dataframe II/Homework-DataFrame-Dataset1.xlsx', sheet_name=\"Paid-Transaction\")\n",
        "\n",
        "# Baca data dari sheet \"Seller\"\n",
        "sellers_df = pd.read_excel('/content/drive/MyDrive/Colab Notebooks/Homework 3 - Dataframe II/Homework-DataFrame-Dataset1.xlsx', sheet_name=\"Seller\")\n",
        "\n",
        "print(paid_trans_df)"
      ],
      "metadata": {
        "colab": {
          "base_uri": "https://localhost:8080/"
        },
        "id": "LCI-JOgTg_jm",
        "outputId": "60a06932-1562-4c36-a968-4d63e3c07487"
      },
      "execution_count": null,
      "outputs": [
        {
          "output_type": "stream",
          "name": "stdout",
          "text": [
            "       Paid Date     Order Number First Name Last Name     Meta Category  \\\n",
            "0       20170724  201707240088517    elvride     aries      Babies/ Kids   \n",
            "1       20170701  201707018889790      BASIR     Ninuk   Service/ Mokado   \n",
            "2       20170707  201707079264675      Citra      Ardi   Service/ Mokado   \n",
            "3       20170720  201707209945714       Dian   Renaldi           Fashion   \n",
            "4       20170722  201707220002354      rizal     Tamba  Gadget/ Komputer   \n",
            "...          ...              ...        ...       ...               ...   \n",
            "11995   20171201  201712012704898     Fitrah      gina   Service/ Mokado   \n",
            "11996   20171203  201712032723513    Djebeng    Shinta   Service/ Mokado   \n",
            "11997   20171204  201712042740205       Amik      Elan        Home/ Food   \n",
            "11998   20171207  201712072778621       Anna      asih  Gadget/ Komputer   \n",
            "11999   20171205  201712052746101     nidyah       ayi   Service/ Mokado   \n",
            "\n",
            "                                            Product Name  Transaction Amount  \\\n",
            "0      Pineapple Hat Anak Ala Korea - 6M - 4Y - Unise...              300000   \n",
            "1                                     Pulsa BOLT 150.000              287800   \n",
            "2                              XTRA Combo 12X 6GB, 12bln               35000   \n",
            "3      Square Foldable Travel Bag / Tas Koper Luggage...               85000   \n",
            "4                             Samsung Galaxy Note 5 Gold               81000   \n",
            "...                                                  ...                 ...   \n",
            "11995                              Xtra Combo 12GB, 30hr              333000   \n",
            "11996                              Xtra Combo 12GB, 30hr              280000   \n",
            "11997  Kreta - Kripik Tempe Indonesia - Rasa Jomblo d...              150000   \n",
            "11998  Samsung Galaxy J5 Pro Garansi Resmi Special Price              475000   \n",
            "11999  [SERBU 11.12] Share Tea Cocoa Rocksalt & Chees...              475000   \n",
            "\n",
            "       Seller Discount  Sales Discount  Delivery Fee  Other Discount  \n",
            "0               153000         10200.0          9000             0.0  \n",
            "1                68000             0.0             0             0.0  \n",
            "2                    0           700.0             0             0.0  \n",
            "3                    0          5900.0             0             0.0  \n",
            "4                    0          5600.0             0             0.0  \n",
            "...                ...             ...           ...             ...  \n",
            "11995           300000          2300.0             0             0.0  \n",
            "11996           222500             0.0             0             0.0  \n",
            "11997            81000          4800.0             0             0.0  \n",
            "11998           400000             0.0             0             0.0  \n",
            "11999           400000         20000.0         17000             0.0  \n",
            "\n",
            "[12000 rows x 11 columns]\n"
          ]
        }
      ]
    },
    {
      "cell_type": "code",
      "source": [
        "#Create a new column \"Full Name\"\n",
        "paid_trans_df['Full Name'] = paid_trans_df['First Name'].str.title() + \" \" + paid_trans_df['Last Name'].str.title()\n",
        "\n",
        "# Insert the \"Full Name\" column after \"Last Name\"\n",
        "paid_trans_df = paid_trans_df[['Paid Date', 'Order Number', 'First Name', 'Last Name',\n",
        "                               'Full Name','Meta Category', 'Product Name', 'Transaction Amount',\n",
        "                               'Seller Discount', 'Sales Discount', 'Delivery Fee', 'Other Discount']]"
      ],
      "metadata": {
        "id": "Ohvl6kfGhmER"
      },
      "execution_count": null,
      "outputs": []
    },
    {
      "cell_type": "code",
      "source": [
        "print(paid_trans_df.head())"
      ],
      "metadata": {
        "colab": {
          "base_uri": "https://localhost:8080/"
        },
        "id": "jpKBnib1iWxg",
        "outputId": "ec7a5931-6860-4a62-bba3-da81b9791093"
      },
      "execution_count": null,
      "outputs": [
        {
          "output_type": "stream",
          "name": "stdout",
          "text": [
            "   Paid Date     Order Number First Name Last Name      Full Name  \\\n",
            "0   20170724  201707240088517    elvride     aries  Elvride Aries   \n",
            "1   20170701  201707018889790      BASIR     Ninuk    Basir Ninuk   \n",
            "2   20170707  201707079264675      Citra      Ardi     Citra Ardi   \n",
            "3   20170720  201707209945714       Dian   Renaldi   Dian Renaldi   \n",
            "4   20170722  201707220002354      rizal     Tamba    Rizal Tamba   \n",
            "\n",
            "      Meta Category                                       Product Name  \\\n",
            "0      Babies/ Kids  Pineapple Hat Anak Ala Korea - 6M - 4Y - Unise...   \n",
            "1   Service/ Mokado                                 Pulsa BOLT 150.000   \n",
            "2   Service/ Mokado                          XTRA Combo 12X 6GB, 12bln   \n",
            "3           Fashion  Square Foldable Travel Bag / Tas Koper Luggage...   \n",
            "4  Gadget/ Komputer                         Samsung Galaxy Note 5 Gold   \n",
            "\n",
            "   Transaction Amount  Seller Discount  Sales Discount  Delivery Fee  \\\n",
            "0              300000           153000         10200.0          9000   \n",
            "1              287800            68000             0.0             0   \n",
            "2               35000                0           700.0             0   \n",
            "3               85000                0          5900.0             0   \n",
            "4               81000                0          5600.0             0   \n",
            "\n",
            "   Other Discount  \n",
            "0             0.0  \n",
            "1             0.0  \n",
            "2             0.0  \n",
            "3             0.0  \n",
            "4             0.0  \n"
          ]
        }
      ]
    },
    {
      "cell_type": "markdown",
      "source": [
        "##Calculate Gross Merchandise Value shich is calculated as \"Transaction Amount\" minus \"Seller Discount\" plus \"Delivery Fee\""
      ],
      "metadata": {
        "id": "ZFrZGReQiauK"
      }
    },
    {
      "cell_type": "code",
      "source": [
        "# Calculate GMV\n",
        "paid_trans_df['GMV'] = paid_trans_df['Transaction Amount'] - paid_trans_df['Seller Discount'] + paid_trans_df['Delivery Fee']\n",
        "\n",
        "#Add a new column named \"GMV\" after the \"Seller Discount\" column\n",
        "paid_trans_df = paid_trans_df[['Paid Date', 'Order Number', 'First Name',\n",
        "                               'Last Name', 'Full Name', 'Meta Category', 'Product Name',\n",
        "                               'Transaction Amount','Seller Discount', 'GMV',\n",
        "                               'Sales Discount', 'Delivery Fee', 'Other Discount']]"
      ],
      "metadata": {
        "id": "MEY3hhBsib4s"
      },
      "execution_count": null,
      "outputs": []
    },
    {
      "cell_type": "code",
      "source": [
        "print(paid_trans_df.head())"
      ],
      "metadata": {
        "colab": {
          "base_uri": "https://localhost:8080/"
        },
        "id": "UgpRvsJJi2-0",
        "outputId": "01a3689c-8cb7-46d2-987e-8c4df9195eb4"
      },
      "execution_count": null,
      "outputs": [
        {
          "output_type": "stream",
          "name": "stdout",
          "text": [
            "   Paid Date     Order Number First Name Last Name      Full Name  \\\n",
            "0   20170724  201707240088517    elvride     aries  Elvride Aries   \n",
            "1   20170701  201707018889790      BASIR     Ninuk    Basir Ninuk   \n",
            "2   20170707  201707079264675      Citra      Ardi     Citra Ardi   \n",
            "3   20170720  201707209945714       Dian   Renaldi   Dian Renaldi   \n",
            "4   20170722  201707220002354      rizal     Tamba    Rizal Tamba   \n",
            "\n",
            "      Meta Category                                       Product Name  \\\n",
            "0      Babies/ Kids  Pineapple Hat Anak Ala Korea - 6M - 4Y - Unise...   \n",
            "1   Service/ Mokado                                 Pulsa BOLT 150.000   \n",
            "2   Service/ Mokado                          XTRA Combo 12X 6GB, 12bln   \n",
            "3           Fashion  Square Foldable Travel Bag / Tas Koper Luggage...   \n",
            "4  Gadget/ Komputer                         Samsung Galaxy Note 5 Gold   \n",
            "\n",
            "   Transaction Amount  Seller Discount     GMV  Sales Discount  Delivery Fee  \\\n",
            "0              300000           153000  156000         10200.0          9000   \n",
            "1              287800            68000  219800             0.0             0   \n",
            "2               35000                0   35000           700.0             0   \n",
            "3               85000                0   85000          5900.0             0   \n",
            "4               81000                0   81000          5600.0             0   \n",
            "\n",
            "   Other Discount  \n",
            "0             0.0  \n",
            "1             0.0  \n",
            "2             0.0  \n",
            "3             0.0  \n",
            "4             0.0  \n"
          ]
        }
      ]
    },
    {
      "cell_type": "markdown",
      "source": [
        "##Create New Collumn called 'Group' and assign Values 1 and 2 based on \"Meta Category\""
      ],
      "metadata": {
        "id": "8GR8QIDei53Q"
      }
    },
    {
      "cell_type": "code",
      "source": [
        "# Create a new column with group information\n",
        "group_mapping = {\n",
        "    'Home/ Food': 'Group 1',\n",
        "    'Sports/ Hobi/ Otomotif': 'Group 1',\n",
        "    'Fashion': 'Group 1',\n",
        "    'Beauty/ Health': 'Group 1',\n",
        "    'Gadget/ Komputer': 'Group 2',\n",
        "    'Elektronik': 'Group 2',\n",
        "    'Service/ Mokado': 'Group 2',\n",
        "    'Babies/ Kids': 'Group 2'\n",
        "}\n",
        "\n",
        "paid_trans_df['Group'] = paid_trans_df['Meta Category'].map(group_mapping)"
      ],
      "metadata": {
        "id": "DrFlhKrgi6-7"
      },
      "execution_count": null,
      "outputs": []
    },
    {
      "cell_type": "code",
      "source": [
        "# Convert 'Paid Date' from string to datetime\n",
        "paid_trans_df['Paid Date'] = pd.to_datetime(paid_trans_df['Paid Date'], format='%Y%m%d')  # Assuming YYYY-MM-DD format\n",
        "paid_trans_df['Month'] = paid_trans_df['Paid Date'].dt.month\n",
        "\n",
        "print(paid_trans_df.head())"
      ],
      "metadata": {
        "colab": {
          "base_uri": "https://localhost:8080/"
        },
        "id": "J0K7QrKvlOTs",
        "outputId": "15e007f6-93ad-46e1-fcfc-b3cfd1d6cd56"
      },
      "execution_count": null,
      "outputs": [
        {
          "output_type": "stream",
          "name": "stdout",
          "text": [
            "   Paid Date     Order Number First Name Last Name      Full Name  \\\n",
            "0 2017-07-24  201707240088517    elvride     aries  Elvride Aries   \n",
            "1 2017-07-01  201707018889790      BASIR     Ninuk    Basir Ninuk   \n",
            "2 2017-07-07  201707079264675      Citra      Ardi     Citra Ardi   \n",
            "3 2017-07-20  201707209945714       Dian   Renaldi   Dian Renaldi   \n",
            "4 2017-07-22  201707220002354      rizal     Tamba    Rizal Tamba   \n",
            "\n",
            "      Meta Category                                       Product Name  \\\n",
            "0      Babies/ Kids  Pineapple Hat Anak Ala Korea - 6M - 4Y - Unise...   \n",
            "1   Service/ Mokado                                 Pulsa BOLT 150.000   \n",
            "2   Service/ Mokado                          XTRA Combo 12X 6GB, 12bln   \n",
            "3           Fashion  Square Foldable Travel Bag / Tas Koper Luggage...   \n",
            "4  Gadget/ Komputer                         Samsung Galaxy Note 5 Gold   \n",
            "\n",
            "   Transaction Amount  Seller Discount     GMV  Sales Discount  Delivery Fee  \\\n",
            "0              300000           153000  156000         10200.0          9000   \n",
            "1              287800            68000  219800             0.0             0   \n",
            "2               35000                0   35000           700.0             0   \n",
            "3               85000                0   85000          5900.0             0   \n",
            "4               81000                0   81000          5600.0             0   \n",
            "\n",
            "   Other Discount    Group  Month  \n",
            "0             0.0  Group 2      7  \n",
            "1             0.0  Group 2      7  \n",
            "2             0.0  Group 2      7  \n",
            "3             0.0  Group 1      7  \n",
            "4             0.0  Group 2      7  \n"
          ]
        }
      ]
    },
    {
      "cell_type": "code",
      "source": [
        "#Create a new DataFrame with a pivot table:\n",
        "pivot_table = paid_trans_df.pivot_table(index=paid_trans_df['Month'], columns=['Group'], aggfunc={'GMV': 'sum'}, fill_value=0)\n",
        "\n",
        "print(pivot_table)"
      ],
      "metadata": {
        "colab": {
          "base_uri": "https://localhost:8080/"
        },
        "id": "xM2z-rj8kOk8",
        "outputId": "c25cef20-49d7-4db0-ae21-c2e22c7e95a2"
      },
      "execution_count": null,
      "outputs": [
        {
          "output_type": "stream",
          "name": "stdout",
          "text": [
            "             GMV           \n",
            "Group    Group 1    Group 2\n",
            "Month                      \n",
            "7      147724300  230414100\n",
            "8       94599100  348790700\n",
            "9      263786400  191482700\n",
            "10     114883100  150263700\n",
            "11     263329200  326532200\n",
            "12     131366800  451421300\n"
          ]
        }
      ]
    },
    {
      "cell_type": "markdown",
      "source": [
        "## Find Seller who has the highest total GMV in August 2017"
      ],
      "metadata": {
        "id": "lrkyImDYyNZ8"
      }
    },
    {
      "cell_type": "code",
      "source": [
        "# Merge Sheet \"Paid-Transaction\" and \"Seller\" based on \"Order Number\"\n",
        "merged_df = paid_trans_df.merge(sellers_df, on='Order Number')\n",
        "# Filtering for August\n",
        "aug_filtered_df = merged_df[merged_df['Paid Date'].dt.month == 8]\n",
        "print(aug_filtered_df.head())"
      ],
      "metadata": {
        "colab": {
          "base_uri": "https://localhost:8080/"
        },
        "id": "pm4HulXdyOVB",
        "outputId": "f6964b0c-7f7d-43fe-d4d8-18c2700e70d0"
      },
      "execution_count": null,
      "outputs": [
        {
          "output_type": "stream",
          "name": "stdout",
          "text": [
            "      Paid Date     Order Number First Name Last Name         Full Name  \\\n",
            "1102 2017-08-08  201708080665846       lisa     Ervin        Lisa Ervin   \n",
            "1103 2017-08-13  201708120799765  chrysdian    Yantie  Chrysdian Yantie   \n",
            "1104 2017-08-10  201708100736231      lidya       Ria         Lidya Ria   \n",
            "1105 2017-08-13  201708130817233       Novi      saif         Novi Saif   \n",
            "1106 2017-08-29  201708291193006     gading      Febe       Gading Febe   \n",
            "\n",
            "        Meta Category                                       Product Name  \\\n",
            "1102     Babies/ Kids  Selimut Double Fleece Carters 100 cm x 75 cm -...   \n",
            "1103          Fashion  NEW ITEM // LADIES SHIRT V COLLAR // 7 Warna /...   \n",
            "1104  Service/ Mokado                        Pulsa Telkomsel REG 200.000   \n",
            "1105          Fashion  Celana Kulot Panjang Wanita / Bahan Spandek Uk...   \n",
            "1106          Fashion                                  Ransel Wanita 816   \n",
            "\n",
            "      Transaction Amount  Seller Discount     GMV  Sales Discount  \\\n",
            "1102               16000             6100   18900             0.0   \n",
            "1103              250000            91000  169000         11100.0   \n",
            "1104               75000             5000   70000             0.0   \n",
            "1105              125000                0  125000             0.0   \n",
            "1106               35000                0   35000             0.0   \n",
            "\n",
            "      Delivery Fee  Other Discount    Group  Month                 Seller  \n",
            "1102          9000             0.0  Group 2      8             Venna Shop  \n",
            "1103         10000             0.0  Group 1      8  shop and save fashion  \n",
            "1104             0             0.0  Group 2      8                 E-Bold  \n",
            "1105             0             0.0  Group 1      8       Grosir Baju Anak  \n",
            "1106             0             0.0  Group 1      8          hs grosir tas  \n"
          ]
        }
      ]
    },
    {
      "cell_type": "code",
      "source": [
        "# Find Seller with highest total 'GMV'\n",
        "gmv_per_seller_df = aug_filtered_df.groupby('Seller')['GMV'].sum().reset_index()\n",
        "gmv_per_seller_df\n",
        "\n",
        "highest_gmv_seller = gmv_per_seller_df.loc[gmv_per_seller_df['GMV'].idxmax()]\n",
        "print(f\"Seller dengan total nilai GMV tertinggi pada Bulan Agustus 2017: {highest_gmv_seller['Seller']}\")\n",
        "print(f\"Total GMV: {highest_gmv_seller['GMV']}\")"
      ],
      "metadata": {
        "colab": {
          "base_uri": "https://localhost:8080/"
        },
        "id": "ZvpfpGXJybOZ",
        "outputId": "ef52054e-b00a-4ba6-e8c9-7d97e4f6375f"
      },
      "execution_count": null,
      "outputs": [
        {
          "output_type": "stream",
          "name": "stdout",
          "text": [
            "Seller dengan total nilai GMV tertinggi pada Bulan Agustus 2017: MOBILEPULSA APP\n",
            "Total GMV: 127241500\n"
          ]
        }
      ]
    },
    {
      "cell_type": "markdown",
      "source": [
        "##Find Seller who has Highest Transasction Cound in September 2017 for 'Fashion' Category"
      ],
      "metadata": {
        "id": "ofvnZe6s04qx"
      }
    },
    {
      "cell_type": "code",
      "source": [
        "# Filtering for \"Fashion\" Category in September 2017\n",
        "sep_filtered_df = merged_df[(merged_df['Paid Date'].dt.month == 9) & (merged_df['Meta Category'] == 'Fashion')]\n",
        "sep_filtered_df\n"
      ],
      "metadata": {
        "colab": {
          "base_uri": "https://localhost:8080/",
          "height": 877
        },
        "id": "tFXFoLPwz1BE",
        "outputId": "28b7e516-de2e-4f74-f20e-588eb4130655"
      },
      "execution_count": null,
      "outputs": [
        {
          "output_type": "execute_result",
          "data": {
            "text/plain": [
              "      Paid Date     Order Number     First Name   Last Name  \\\n",
              "2474 2017-09-02  201709021277460          tesya        Bayu   \n",
              "2476 2017-09-20  201709201670584         ladira     Anthony   \n",
              "2479 2017-09-03  201709031301986        rusmidi        Rudi   \n",
              "2482 2017-09-20  201709201670331        Halimah       fajar   \n",
              "2642 2017-09-11  201709101490591          Najmi     Suryono   \n",
              "...         ...              ...            ...         ...   \n",
              "7831 2017-09-11  201709091463132          Noval   Mangaraja   \n",
              "7948 2017-09-28  201709271783320       mufaddal        ayya   \n",
              "8145 2017-09-04  201709041321069  GATUTSUPRIADI        anna   \n",
              "8146 2017-09-05  201709051355254          Sonny  Mahliannur   \n",
              "8464 2017-09-18  201709181638780         Silvia    Fabiyola   \n",
              "\n",
              "               Full Name Meta Category  \\\n",
              "2474          Tesya Bayu       Fashion   \n",
              "2476      Ladira Anthony       Fashion   \n",
              "2479        Rusmidi Rudi       Fashion   \n",
              "2482       Halimah Fajar       Fashion   \n",
              "2642       Najmi Suryono       Fashion   \n",
              "...                  ...           ...   \n",
              "7831     Noval Mangaraja       Fashion   \n",
              "7948       Mufaddal Ayya       Fashion   \n",
              "8145  Gatutsupriadi Anna       Fashion   \n",
              "8146    Sonny Mahliannur       Fashion   \n",
              "8464     Silvia Fabiyola       Fashion   \n",
              "\n",
              "                                           Product Name  Transaction Amount  \\\n",
              "2474  Bralette Tali 6/ Active BRA tali 6/ Black & Wh...              158000   \n",
              "2476  BATIK CULLOTE - SKIRT - SKORT - Kulot Batik - ...              150000   \n",
              "2479  [Future Is Now] Foldbale bag / Tas Lipat Stree...               75000   \n",
              "2482  Smart Digital Wrist Watch Band Heart rate Bloo...               75000   \n",
              "2642  MUNAFIE Slimming Pants / MUNAFIE Slimming Pant...               34000   \n",
              "...                                                 ...                 ...   \n",
              "7831  Singlet Pria Dewasa / Pakaian Dalam Pria / Kao...              103500   \n",
              "7948                        kaos kaki 5 jari polos pria               51900   \n",
              "8145  Sepatu Pria Sneakers Nik Springblade / Sepatu ...               10400   \n",
              "8146  [3 Ways Bag] Atdiva Tas Ransel Selempang Simpl...               10400   \n",
              "8464  CELANA PANJANG BAHAN FORMAL/CELANA KERJA PRIA ...               41600   \n",
              "\n",
              "      Seller Discount     GMV  Sales Discount  Delivery Fee  Other Discount  \\\n",
              "2474           102700   55300             0.0             0             0.0   \n",
              "2476           107000   43000          3000.0             0             0.0   \n",
              "2479            53500   21500          1500.0             0             0.0   \n",
              "2482            53500   21500          1500.0             0             0.0   \n",
              "2642                0   34000             0.0             0             0.0   \n",
              "...               ...     ...             ...           ...             ...   \n",
              "7831                0  103500          6500.0             0             0.0   \n",
              "7948                0   51900          2000.0             0             0.0   \n",
              "8145                0   10400             0.0             0             0.0   \n",
              "8146                0   10400             0.0             0             0.0   \n",
              "8464            18700   22900             0.0             0             0.0   \n",
              "\n",
              "        Group  Month             Seller  \n",
              "2474  Group 1      9          duta shop  \n",
              "2476  Group 1      9       EVERCLOTH_ID  \n",
              "2479  Group 1      9              Faith  \n",
              "2482  Group 1      9        HAPIC Store  \n",
              "2642  Group 1      9         Alena_Shop  \n",
              "...       ...    ...                ...  \n",
              "7831  Group 1      9  Fadfa Collections  \n",
              "7948  Group 1      9      AG Collection  \n",
              "8145  Group 1      9         HANA PICKS  \n",
              "8146  Group 1      9    Tas Kpop Atdiva  \n",
              "8464  Group 1      9             M-line  \n",
              "\n",
              "[480 rows x 16 columns]"
            ],
            "text/html": [
              "\n",
              "  <div id=\"df-1d74d150-573f-4ced-8f68-8709eb3675f6\" class=\"colab-df-container\">\n",
              "    <div>\n",
              "<style scoped>\n",
              "    .dataframe tbody tr th:only-of-type {\n",
              "        vertical-align: middle;\n",
              "    }\n",
              "\n",
              "    .dataframe tbody tr th {\n",
              "        vertical-align: top;\n",
              "    }\n",
              "\n",
              "    .dataframe thead th {\n",
              "        text-align: right;\n",
              "    }\n",
              "</style>\n",
              "<table border=\"1\" class=\"dataframe\">\n",
              "  <thead>\n",
              "    <tr style=\"text-align: right;\">\n",
              "      <th></th>\n",
              "      <th>Paid Date</th>\n",
              "      <th>Order Number</th>\n",
              "      <th>First Name</th>\n",
              "      <th>Last Name</th>\n",
              "      <th>Full Name</th>\n",
              "      <th>Meta Category</th>\n",
              "      <th>Product Name</th>\n",
              "      <th>Transaction Amount</th>\n",
              "      <th>Seller Discount</th>\n",
              "      <th>GMV</th>\n",
              "      <th>Sales Discount</th>\n",
              "      <th>Delivery Fee</th>\n",
              "      <th>Other Discount</th>\n",
              "      <th>Group</th>\n",
              "      <th>Month</th>\n",
              "      <th>Seller</th>\n",
              "    </tr>\n",
              "  </thead>\n",
              "  <tbody>\n",
              "    <tr>\n",
              "      <th>2474</th>\n",
              "      <td>2017-09-02</td>\n",
              "      <td>201709021277460</td>\n",
              "      <td>tesya</td>\n",
              "      <td>Bayu</td>\n",
              "      <td>Tesya Bayu</td>\n",
              "      <td>Fashion</td>\n",
              "      <td>Bralette Tali 6/ Active BRA tali 6/ Black &amp; Wh...</td>\n",
              "      <td>158000</td>\n",
              "      <td>102700</td>\n",
              "      <td>55300</td>\n",
              "      <td>0.0</td>\n",
              "      <td>0</td>\n",
              "      <td>0.0</td>\n",
              "      <td>Group 1</td>\n",
              "      <td>9</td>\n",
              "      <td>duta shop</td>\n",
              "    </tr>\n",
              "    <tr>\n",
              "      <th>2476</th>\n",
              "      <td>2017-09-20</td>\n",
              "      <td>201709201670584</td>\n",
              "      <td>ladira</td>\n",
              "      <td>Anthony</td>\n",
              "      <td>Ladira Anthony</td>\n",
              "      <td>Fashion</td>\n",
              "      <td>BATIK CULLOTE - SKIRT - SKORT - Kulot Batik - ...</td>\n",
              "      <td>150000</td>\n",
              "      <td>107000</td>\n",
              "      <td>43000</td>\n",
              "      <td>3000.0</td>\n",
              "      <td>0</td>\n",
              "      <td>0.0</td>\n",
              "      <td>Group 1</td>\n",
              "      <td>9</td>\n",
              "      <td>EVERCLOTH_ID</td>\n",
              "    </tr>\n",
              "    <tr>\n",
              "      <th>2479</th>\n",
              "      <td>2017-09-03</td>\n",
              "      <td>201709031301986</td>\n",
              "      <td>rusmidi</td>\n",
              "      <td>Rudi</td>\n",
              "      <td>Rusmidi Rudi</td>\n",
              "      <td>Fashion</td>\n",
              "      <td>[Future Is Now] Foldbale bag / Tas Lipat Stree...</td>\n",
              "      <td>75000</td>\n",
              "      <td>53500</td>\n",
              "      <td>21500</td>\n",
              "      <td>1500.0</td>\n",
              "      <td>0</td>\n",
              "      <td>0.0</td>\n",
              "      <td>Group 1</td>\n",
              "      <td>9</td>\n",
              "      <td>Faith</td>\n",
              "    </tr>\n",
              "    <tr>\n",
              "      <th>2482</th>\n",
              "      <td>2017-09-20</td>\n",
              "      <td>201709201670331</td>\n",
              "      <td>Halimah</td>\n",
              "      <td>fajar</td>\n",
              "      <td>Halimah Fajar</td>\n",
              "      <td>Fashion</td>\n",
              "      <td>Smart Digital Wrist Watch Band Heart rate Bloo...</td>\n",
              "      <td>75000</td>\n",
              "      <td>53500</td>\n",
              "      <td>21500</td>\n",
              "      <td>1500.0</td>\n",
              "      <td>0</td>\n",
              "      <td>0.0</td>\n",
              "      <td>Group 1</td>\n",
              "      <td>9</td>\n",
              "      <td>HAPIC Store</td>\n",
              "    </tr>\n",
              "    <tr>\n",
              "      <th>2642</th>\n",
              "      <td>2017-09-11</td>\n",
              "      <td>201709101490591</td>\n",
              "      <td>Najmi</td>\n",
              "      <td>Suryono</td>\n",
              "      <td>Najmi Suryono</td>\n",
              "      <td>Fashion</td>\n",
              "      <td>MUNAFIE Slimming Pants / MUNAFIE Slimming Pant...</td>\n",
              "      <td>34000</td>\n",
              "      <td>0</td>\n",
              "      <td>34000</td>\n",
              "      <td>0.0</td>\n",
              "      <td>0</td>\n",
              "      <td>0.0</td>\n",
              "      <td>Group 1</td>\n",
              "      <td>9</td>\n",
              "      <td>Alena_Shop</td>\n",
              "    </tr>\n",
              "    <tr>\n",
              "      <th>...</th>\n",
              "      <td>...</td>\n",
              "      <td>...</td>\n",
              "      <td>...</td>\n",
              "      <td>...</td>\n",
              "      <td>...</td>\n",
              "      <td>...</td>\n",
              "      <td>...</td>\n",
              "      <td>...</td>\n",
              "      <td>...</td>\n",
              "      <td>...</td>\n",
              "      <td>...</td>\n",
              "      <td>...</td>\n",
              "      <td>...</td>\n",
              "      <td>...</td>\n",
              "      <td>...</td>\n",
              "      <td>...</td>\n",
              "    </tr>\n",
              "    <tr>\n",
              "      <th>7831</th>\n",
              "      <td>2017-09-11</td>\n",
              "      <td>201709091463132</td>\n",
              "      <td>Noval</td>\n",
              "      <td>Mangaraja</td>\n",
              "      <td>Noval Mangaraja</td>\n",
              "      <td>Fashion</td>\n",
              "      <td>Singlet Pria Dewasa / Pakaian Dalam Pria / Kao...</td>\n",
              "      <td>103500</td>\n",
              "      <td>0</td>\n",
              "      <td>103500</td>\n",
              "      <td>6500.0</td>\n",
              "      <td>0</td>\n",
              "      <td>0.0</td>\n",
              "      <td>Group 1</td>\n",
              "      <td>9</td>\n",
              "      <td>Fadfa Collections</td>\n",
              "    </tr>\n",
              "    <tr>\n",
              "      <th>7948</th>\n",
              "      <td>2017-09-28</td>\n",
              "      <td>201709271783320</td>\n",
              "      <td>mufaddal</td>\n",
              "      <td>ayya</td>\n",
              "      <td>Mufaddal Ayya</td>\n",
              "      <td>Fashion</td>\n",
              "      <td>kaos kaki 5 jari polos pria</td>\n",
              "      <td>51900</td>\n",
              "      <td>0</td>\n",
              "      <td>51900</td>\n",
              "      <td>2000.0</td>\n",
              "      <td>0</td>\n",
              "      <td>0.0</td>\n",
              "      <td>Group 1</td>\n",
              "      <td>9</td>\n",
              "      <td>AG Collection</td>\n",
              "    </tr>\n",
              "    <tr>\n",
              "      <th>8145</th>\n",
              "      <td>2017-09-04</td>\n",
              "      <td>201709041321069</td>\n",
              "      <td>GATUTSUPRIADI</td>\n",
              "      <td>anna</td>\n",
              "      <td>Gatutsupriadi Anna</td>\n",
              "      <td>Fashion</td>\n",
              "      <td>Sepatu Pria Sneakers Nik Springblade / Sepatu ...</td>\n",
              "      <td>10400</td>\n",
              "      <td>0</td>\n",
              "      <td>10400</td>\n",
              "      <td>0.0</td>\n",
              "      <td>0</td>\n",
              "      <td>0.0</td>\n",
              "      <td>Group 1</td>\n",
              "      <td>9</td>\n",
              "      <td>HANA PICKS</td>\n",
              "    </tr>\n",
              "    <tr>\n",
              "      <th>8146</th>\n",
              "      <td>2017-09-05</td>\n",
              "      <td>201709051355254</td>\n",
              "      <td>Sonny</td>\n",
              "      <td>Mahliannur</td>\n",
              "      <td>Sonny Mahliannur</td>\n",
              "      <td>Fashion</td>\n",
              "      <td>[3 Ways Bag] Atdiva Tas Ransel Selempang Simpl...</td>\n",
              "      <td>10400</td>\n",
              "      <td>0</td>\n",
              "      <td>10400</td>\n",
              "      <td>0.0</td>\n",
              "      <td>0</td>\n",
              "      <td>0.0</td>\n",
              "      <td>Group 1</td>\n",
              "      <td>9</td>\n",
              "      <td>Tas Kpop Atdiva</td>\n",
              "    </tr>\n",
              "    <tr>\n",
              "      <th>8464</th>\n",
              "      <td>2017-09-18</td>\n",
              "      <td>201709181638780</td>\n",
              "      <td>Silvia</td>\n",
              "      <td>Fabiyola</td>\n",
              "      <td>Silvia Fabiyola</td>\n",
              "      <td>Fashion</td>\n",
              "      <td>CELANA PANJANG BAHAN FORMAL/CELANA KERJA PRIA ...</td>\n",
              "      <td>41600</td>\n",
              "      <td>18700</td>\n",
              "      <td>22900</td>\n",
              "      <td>0.0</td>\n",
              "      <td>0</td>\n",
              "      <td>0.0</td>\n",
              "      <td>Group 1</td>\n",
              "      <td>9</td>\n",
              "      <td>M-line</td>\n",
              "    </tr>\n",
              "  </tbody>\n",
              "</table>\n",
              "<p>480 rows × 16 columns</p>\n",
              "</div>\n",
              "    <div class=\"colab-df-buttons\">\n",
              "\n",
              "  <div class=\"colab-df-container\">\n",
              "    <button class=\"colab-df-convert\" onclick=\"convertToInteractive('df-1d74d150-573f-4ced-8f68-8709eb3675f6')\"\n",
              "            title=\"Convert this dataframe to an interactive table.\"\n",
              "            style=\"display:none;\">\n",
              "\n",
              "  <svg xmlns=\"http://www.w3.org/2000/svg\" height=\"24px\" viewBox=\"0 -960 960 960\">\n",
              "    <path d=\"M120-120v-720h720v720H120Zm60-500h600v-160H180v160Zm220 220h160v-160H400v160Zm0 220h160v-160H400v160ZM180-400h160v-160H180v160Zm440 0h160v-160H620v160ZM180-180h160v-160H180v160Zm440 0h160v-160H620v160Z\"/>\n",
              "  </svg>\n",
              "    </button>\n",
              "\n",
              "  <style>\n",
              "    .colab-df-container {\n",
              "      display:flex;\n",
              "      gap: 12px;\n",
              "    }\n",
              "\n",
              "    .colab-df-convert {\n",
              "      background-color: #E8F0FE;\n",
              "      border: none;\n",
              "      border-radius: 50%;\n",
              "      cursor: pointer;\n",
              "      display: none;\n",
              "      fill: #1967D2;\n",
              "      height: 32px;\n",
              "      padding: 0 0 0 0;\n",
              "      width: 32px;\n",
              "    }\n",
              "\n",
              "    .colab-df-convert:hover {\n",
              "      background-color: #E2EBFA;\n",
              "      box-shadow: 0px 1px 2px rgba(60, 64, 67, 0.3), 0px 1px 3px 1px rgba(60, 64, 67, 0.15);\n",
              "      fill: #174EA6;\n",
              "    }\n",
              "\n",
              "    .colab-df-buttons div {\n",
              "      margin-bottom: 4px;\n",
              "    }\n",
              "\n",
              "    [theme=dark] .colab-df-convert {\n",
              "      background-color: #3B4455;\n",
              "      fill: #D2E3FC;\n",
              "    }\n",
              "\n",
              "    [theme=dark] .colab-df-convert:hover {\n",
              "      background-color: #434B5C;\n",
              "      box-shadow: 0px 1px 3px 1px rgba(0, 0, 0, 0.15);\n",
              "      filter: drop-shadow(0px 1px 2px rgba(0, 0, 0, 0.3));\n",
              "      fill: #FFFFFF;\n",
              "    }\n",
              "  </style>\n",
              "\n",
              "    <script>\n",
              "      const buttonEl =\n",
              "        document.querySelector('#df-1d74d150-573f-4ced-8f68-8709eb3675f6 button.colab-df-convert');\n",
              "      buttonEl.style.display =\n",
              "        google.colab.kernel.accessAllowed ? 'block' : 'none';\n",
              "\n",
              "      async function convertToInteractive(key) {\n",
              "        const element = document.querySelector('#df-1d74d150-573f-4ced-8f68-8709eb3675f6');\n",
              "        const dataTable =\n",
              "          await google.colab.kernel.invokeFunction('convertToInteractive',\n",
              "                                                    [key], {});\n",
              "        if (!dataTable) return;\n",
              "\n",
              "        const docLinkHtml = 'Like what you see? Visit the ' +\n",
              "          '<a target=\"_blank\" href=https://colab.research.google.com/notebooks/data_table.ipynb>data table notebook</a>'\n",
              "          + ' to learn more about interactive tables.';\n",
              "        element.innerHTML = '';\n",
              "        dataTable['output_type'] = 'display_data';\n",
              "        await google.colab.output.renderOutput(dataTable, element);\n",
              "        const docLink = document.createElement('div');\n",
              "        docLink.innerHTML = docLinkHtml;\n",
              "        element.appendChild(docLink);\n",
              "      }\n",
              "    </script>\n",
              "  </div>\n",
              "\n",
              "\n",
              "<div id=\"df-d0e3314f-4b2b-4df4-aa83-3ab65df1f065\">\n",
              "  <button class=\"colab-df-quickchart\" onclick=\"quickchart('df-d0e3314f-4b2b-4df4-aa83-3ab65df1f065')\"\n",
              "            title=\"Suggest charts\"\n",
              "            style=\"display:none;\">\n",
              "\n",
              "<svg xmlns=\"http://www.w3.org/2000/svg\" height=\"24px\"viewBox=\"0 0 24 24\"\n",
              "     width=\"24px\">\n",
              "    <g>\n",
              "        <path d=\"M19 3H5c-1.1 0-2 .9-2 2v14c0 1.1.9 2 2 2h14c1.1 0 2-.9 2-2V5c0-1.1-.9-2-2-2zM9 17H7v-7h2v7zm4 0h-2V7h2v10zm4 0h-2v-4h2v4z\"/>\n",
              "    </g>\n",
              "</svg>\n",
              "  </button>\n",
              "\n",
              "<style>\n",
              "  .colab-df-quickchart {\n",
              "      --bg-color: #E8F0FE;\n",
              "      --fill-color: #1967D2;\n",
              "      --hover-bg-color: #E2EBFA;\n",
              "      --hover-fill-color: #174EA6;\n",
              "      --disabled-fill-color: #AAA;\n",
              "      --disabled-bg-color: #DDD;\n",
              "  }\n",
              "\n",
              "  [theme=dark] .colab-df-quickchart {\n",
              "      --bg-color: #3B4455;\n",
              "      --fill-color: #D2E3FC;\n",
              "      --hover-bg-color: #434B5C;\n",
              "      --hover-fill-color: #FFFFFF;\n",
              "      --disabled-bg-color: #3B4455;\n",
              "      --disabled-fill-color: #666;\n",
              "  }\n",
              "\n",
              "  .colab-df-quickchart {\n",
              "    background-color: var(--bg-color);\n",
              "    border: none;\n",
              "    border-radius: 50%;\n",
              "    cursor: pointer;\n",
              "    display: none;\n",
              "    fill: var(--fill-color);\n",
              "    height: 32px;\n",
              "    padding: 0;\n",
              "    width: 32px;\n",
              "  }\n",
              "\n",
              "  .colab-df-quickchart:hover {\n",
              "    background-color: var(--hover-bg-color);\n",
              "    box-shadow: 0 1px 2px rgba(60, 64, 67, 0.3), 0 1px 3px 1px rgba(60, 64, 67, 0.15);\n",
              "    fill: var(--button-hover-fill-color);\n",
              "  }\n",
              "\n",
              "  .colab-df-quickchart-complete:disabled,\n",
              "  .colab-df-quickchart-complete:disabled:hover {\n",
              "    background-color: var(--disabled-bg-color);\n",
              "    fill: var(--disabled-fill-color);\n",
              "    box-shadow: none;\n",
              "  }\n",
              "\n",
              "  .colab-df-spinner {\n",
              "    border: 2px solid var(--fill-color);\n",
              "    border-color: transparent;\n",
              "    border-bottom-color: var(--fill-color);\n",
              "    animation:\n",
              "      spin 1s steps(1) infinite;\n",
              "  }\n",
              "\n",
              "  @keyframes spin {\n",
              "    0% {\n",
              "      border-color: transparent;\n",
              "      border-bottom-color: var(--fill-color);\n",
              "      border-left-color: var(--fill-color);\n",
              "    }\n",
              "    20% {\n",
              "      border-color: transparent;\n",
              "      border-left-color: var(--fill-color);\n",
              "      border-top-color: var(--fill-color);\n",
              "    }\n",
              "    30% {\n",
              "      border-color: transparent;\n",
              "      border-left-color: var(--fill-color);\n",
              "      border-top-color: var(--fill-color);\n",
              "      border-right-color: var(--fill-color);\n",
              "    }\n",
              "    40% {\n",
              "      border-color: transparent;\n",
              "      border-right-color: var(--fill-color);\n",
              "      border-top-color: var(--fill-color);\n",
              "    }\n",
              "    60% {\n",
              "      border-color: transparent;\n",
              "      border-right-color: var(--fill-color);\n",
              "    }\n",
              "    80% {\n",
              "      border-color: transparent;\n",
              "      border-right-color: var(--fill-color);\n",
              "      border-bottom-color: var(--fill-color);\n",
              "    }\n",
              "    90% {\n",
              "      border-color: transparent;\n",
              "      border-bottom-color: var(--fill-color);\n",
              "    }\n",
              "  }\n",
              "</style>\n",
              "\n",
              "  <script>\n",
              "    async function quickchart(key) {\n",
              "      const quickchartButtonEl =\n",
              "        document.querySelector('#' + key + ' button');\n",
              "      quickchartButtonEl.disabled = true;  // To prevent multiple clicks.\n",
              "      quickchartButtonEl.classList.add('colab-df-spinner');\n",
              "      try {\n",
              "        const charts = await google.colab.kernel.invokeFunction(\n",
              "            'suggestCharts', [key], {});\n",
              "      } catch (error) {\n",
              "        console.error('Error during call to suggestCharts:', error);\n",
              "      }\n",
              "      quickchartButtonEl.classList.remove('colab-df-spinner');\n",
              "      quickchartButtonEl.classList.add('colab-df-quickchart-complete');\n",
              "    }\n",
              "    (() => {\n",
              "      let quickchartButtonEl =\n",
              "        document.querySelector('#df-d0e3314f-4b2b-4df4-aa83-3ab65df1f065 button');\n",
              "      quickchartButtonEl.style.display =\n",
              "        google.colab.kernel.accessAllowed ? 'block' : 'none';\n",
              "    })();\n",
              "  </script>\n",
              "</div>\n",
              "    </div>\n",
              "  </div>\n"
            ],
            "application/vnd.google.colaboratory.intrinsic+json": {
              "type": "dataframe",
              "variable_name": "sep_filtered_df",
              "summary": "{\n  \"name\": \"sep_filtered_df\",\n  \"rows\": 480,\n  \"fields\": [\n    {\n      \"column\": \"Paid Date\",\n      \"properties\": {\n        \"dtype\": \"date\",\n        \"min\": \"2017-09-01 00:00:00\",\n        \"max\": \"2017-09-30 00:00:00\",\n        \"num_unique_values\": 30,\n        \"samples\": [\n          \"2017-09-25 00:00:00\",\n          \"2017-09-04 00:00:00\",\n          \"2017-09-06 00:00:00\"\n        ],\n        \"semantic_type\": \"\",\n        \"description\": \"\"\n      }\n    },\n    {\n      \"column\": \"Order Number\",\n      \"properties\": {\n        \"dtype\": \"number\",\n        \"std\": 171558226,\n        \"min\": 201708291199660,\n        \"max\": 201709301846246,\n        \"num_unique_values\": 480,\n        \"samples\": [\n          201709071413227,\n          201709091461998,\n          201709221701237\n        ],\n        \"semantic_type\": \"\",\n        \"description\": \"\"\n      }\n    },\n    {\n      \"column\": \"First Name\",\n      \"properties\": {\n        \"dtype\": \"string\",\n        \"num_unique_values\": 443,\n        \"samples\": [\n          \"vaniaism\",\n          \"Omar\",\n          \"stefanus\"\n        ],\n        \"semantic_type\": \"\",\n        \"description\": \"\"\n      }\n    },\n    {\n      \"column\": \"Last Name\",\n      \"properties\": {\n        \"dtype\": \"string\",\n        \"num_unique_values\": 446,\n        \"samples\": [\n          \"Julika\",\n          \"pery\",\n          \"Annisa\"\n        ],\n        \"semantic_type\": \"\",\n        \"description\": \"\"\n      }\n    },\n    {\n      \"column\": \"Full Name\",\n      \"properties\": {\n        \"dtype\": \"string\",\n        \"num_unique_values\": 480,\n        \"samples\": [\n          \"Frans Ivony\",\n          \"Christiana Yeni\",\n          \"Esther Akiong\"\n        ],\n        \"semantic_type\": \"\",\n        \"description\": \"\"\n      }\n    },\n    {\n      \"column\": \"Meta Category\",\n      \"properties\": {\n        \"dtype\": \"category\",\n        \"num_unique_values\": 1,\n        \"samples\": [\n          \"Fashion\"\n        ],\n        \"semantic_type\": \"\",\n        \"description\": \"\"\n      }\n    },\n    {\n      \"column\": \"Product Name\",\n      \"properties\": {\n        \"dtype\": \"category\",\n        \"num_unique_values\": 222,\n        \"samples\": [\n          \"Kaos Polos Pria V Neck / Kaos Polos Bahan Combat 24s / Pakaian Pria Terbaru\"\n        ],\n        \"semantic_type\": \"\",\n        \"description\": \"\"\n      }\n    },\n    {\n      \"column\": \"Transaction Amount\",\n      \"properties\": {\n        \"dtype\": \"number\",\n        \"std\": 1554837,\n        \"min\": 4000,\n        \"max\": 18007500,\n        \"num_unique_values\": 195,\n        \"samples\": [\n          140000\n        ],\n        \"semantic_type\": \"\",\n        \"description\": \"\"\n      }\n    },\n    {\n      \"column\": \"Seller Discount\",\n      \"properties\": {\n        \"dtype\": \"number\",\n        \"std\": 139095,\n        \"min\": 0,\n        \"max\": 2429000,\n        \"num_unique_values\": 188,\n        \"samples\": [\n          55100\n        ],\n        \"semantic_type\": \"\",\n        \"description\": \"\"\n      }\n    },\n    {\n      \"column\": \"GMV\",\n      \"properties\": {\n        \"dtype\": \"number\",\n        \"std\": 1539278,\n        \"min\": 3400,\n        \"max\": 18007500,\n        \"num_unique_values\": 264,\n        \"samples\": [\n          99000\n        ],\n        \"semantic_type\": \"\",\n        \"description\": \"\"\n      }\n    },\n    {\n      \"column\": \"Sales Discount\",\n      \"properties\": {\n        \"dtype\": \"number\",\n        \"std\": 102993.60340171061,\n        \"min\": 0.0,\n        \"max\": 1244500.0,\n        \"num_unique_values\": 107,\n        \"samples\": [\n          36000.0\n        ],\n        \"semantic_type\": \"\",\n        \"description\": \"\"\n      }\n    },\n    {\n      \"column\": \"Delivery Fee\",\n      \"properties\": {\n        \"dtype\": \"number\",\n        \"std\": 4357,\n        \"min\": 0,\n        \"max\": 20000,\n        \"num_unique_values\": 6,\n        \"samples\": [\n          0\n        ],\n        \"semantic_type\": \"\",\n        \"description\": \"\"\n      }\n    },\n    {\n      \"column\": \"Other Discount\",\n      \"properties\": {\n        \"dtype\": \"number\",\n        \"std\": 0.0,\n        \"min\": 0.0,\n        \"max\": 0.0,\n        \"num_unique_values\": 1,\n        \"samples\": [\n          0.0\n        ],\n        \"semantic_type\": \"\",\n        \"description\": \"\"\n      }\n    },\n    {\n      \"column\": \"Group\",\n      \"properties\": {\n        \"dtype\": \"category\",\n        \"num_unique_values\": 1,\n        \"samples\": [\n          \"Group 1\"\n        ],\n        \"semantic_type\": \"\",\n        \"description\": \"\"\n      }\n    },\n    {\n      \"column\": \"Month\",\n      \"properties\": {\n        \"dtype\": \"int32\",\n        \"num_unique_values\": 1,\n        \"samples\": [\n          9\n        ],\n        \"semantic_type\": \"\",\n        \"description\": \"\"\n      }\n    },\n    {\n      \"column\": \"Seller\",\n      \"properties\": {\n        \"dtype\": \"category\",\n        \"num_unique_values\": 176,\n        \"samples\": [\n          \"Oppa Style Shop\"\n        ],\n        \"semantic_type\": \"\",\n        \"description\": \"\"\n      }\n    }\n  ]\n}"
            }
          },
          "metadata": {},
          "execution_count": 17
        }
      ]
    },
    {
      "cell_type": "code",
      "source": [
        "# Find Seller with Highest Transaction Count (Banyaknya Transaksi)\n",
        "seller_trans_amount_df= sep_filtered_df.groupby('Seller')['Transaction Amount'].count().reset_index()\n",
        "\n",
        "highest_count_seller = seller_trans_amount_df.loc[seller_trans_amount_df['Transaction Amount'].idxmax()]\n",
        "print(f\"Seller dengan nilai 'Banyak Transaksi' tertinggi di Bulan September 2017 untuk Meta Categori Fashion: {highest_count_seller['Seller']}\")\n",
        "print(f\"Banyaknya Transaksi: {highest_count_seller['Transaction Amount']}\")"
      ],
      "metadata": {
        "colab": {
          "base_uri": "https://localhost:8080/"
        },
        "id": "bAVq5r5e36Iv",
        "outputId": "8e06790e-ce0a-4f05-a440-394551ded0d9"
      },
      "execution_count": null,
      "outputs": [
        {
          "output_type": "stream",
          "name": "stdout",
          "text": [
            "Seller dengan nilai 'Banyak Transaksi' tertinggi di Bulan September 2017 untuk Meta Categori Fashion: tokoaqila\n",
            "Banyaknya Transaksi: 31\n"
          ]
        }
      ]
    }
  ]
}